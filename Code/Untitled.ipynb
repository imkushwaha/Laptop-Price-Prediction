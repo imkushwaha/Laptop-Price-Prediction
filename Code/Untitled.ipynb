{
 "cells": [
  {
   "cell_type": "code",
   "execution_count": 45,
   "metadata": {},
   "outputs": [],
   "source": [
    "my_dict = {'Linear': ('R2 score:0.8092895863489976', 'MAE:0.20681939089215412'), 'Ridge': ('R2 score:0.8158770662709165', 'MAE:0.2040044118549679'), 'Lasso': ('R2 score:0.8089088592529364', 'MAE:0.20765758983726562'), 'KNN': ('R2 score:0.8042561342976997', 'MAE:0.19819997605274794'), 'DecisionTree': ('R2 score:0.8233038415512747', 'MAE:0.19792438203994842'), 'SVM': ('R2 score:0.8024923518341884', 'MAE:0.2039298257193522'), 'RandomForest': ('R2 score:0.8737714170902662', 'MAE:0.17107524729616622'), 'ExtraTree': ('R2 score:0.8521527311679403', 'MAE:0.17999571339194037'), 'AdaBoost': ('R2 score:0.8122228782983033', 'MAE:0.2199766104348241'), 'GradientBoost': ('R2 score:0.8877105930934882', 'MAE:0.16243115254343737'), 'XgBoost': ('R2 score:0.8948996635200257', 'MAE:0.1587613968257637'), 'Voting': ('R2 score:0.8836006072873962', 'MAE:0.16566641308940033'), 'Stacking': ('R2 score:0.876368441243426', 'MAE:0.17149899660958176')}"
   ]
  },
  {
   "cell_type": "code",
   "execution_count": 46,
   "metadata": {},
   "outputs": [
    {
     "data": {
      "text/plain": [
       "{'Linear': ('R2 score:0.8092895863489976', 'MAE:0.20681939089215412'),\n",
       " 'Ridge': ('R2 score:0.8158770662709165', 'MAE:0.2040044118549679'),\n",
       " 'Lasso': ('R2 score:0.8089088592529364', 'MAE:0.20765758983726562'),\n",
       " 'KNN': ('R2 score:0.8042561342976997', 'MAE:0.19819997605274794'),\n",
       " 'DecisionTree': ('R2 score:0.8233038415512747', 'MAE:0.19792438203994842'),\n",
       " 'SVM': ('R2 score:0.8024923518341884', 'MAE:0.2039298257193522'),\n",
       " 'RandomForest': ('R2 score:0.8737714170902662', 'MAE:0.17107524729616622'),\n",
       " 'ExtraTree': ('R2 score:0.8521527311679403', 'MAE:0.17999571339194037'),\n",
       " 'AdaBoost': ('R2 score:0.8122228782983033', 'MAE:0.2199766104348241'),\n",
       " 'GradientBoost': ('R2 score:0.8877105930934882', 'MAE:0.16243115254343737'),\n",
       " 'XgBoost': ('R2 score:0.8948996635200257', 'MAE:0.1587613968257637'),\n",
       " 'Voting': ('R2 score:0.8836006072873962', 'MAE:0.16566641308940033'),\n",
       " 'Stacking': ('R2 score:0.876368441243426', 'MAE:0.17149899660958176')}"
      ]
     },
     "execution_count": 46,
     "metadata": {},
     "output_type": "execute_result"
    }
   ],
   "source": [
    "my_dict"
   ]
  },
  {
   "cell_type": "code",
   "execution_count": 47,
   "metadata": {},
   "outputs": [
    {
     "data": {
      "text/plain": [
       "0.809"
      ]
     },
     "execution_count": 47,
     "metadata": {},
     "output_type": "execute_result"
    }
   ],
   "source": [
    "round(float(my_dict[\"Linear\"][0].split(\":\")[1]),3)"
   ]
  },
  {
   "cell_type": "code",
   "execution_count": 48,
   "metadata": {},
   "outputs": [],
   "source": [
    "models = ['Linear',\n",
    "          'Ridge',\n",
    "          'Lasso',\n",
    "          'KNN',\n",
    "          'DecisionTree',\n",
    "          'SVM',\n",
    "          'RandomForest',\n",
    "          'ExtraTree',\n",
    "          'AdaBoost',\n",
    "          'GradientBoost',\n",
    "          'XgBoost',\n",
    "          'Voting',\n",
    "          'Stacking']"
   ]
  },
  {
   "cell_type": "code",
   "execution_count": 49,
   "metadata": {},
   "outputs": [
    {
     "data": {
      "text/plain": [
       "{'Linear': 0.809,\n",
       " 'Ridge': 0.816,\n",
       " 'Lasso': 0.809,\n",
       " 'KNN': 0.804,\n",
       " 'DecisionTree': 0.823,\n",
       " 'SVM': 0.802,\n",
       " 'RandomForest': 0.874,\n",
       " 'ExtraTree': 0.852,\n",
       " 'AdaBoost': 0.812,\n",
       " 'GradientBoost': 0.888,\n",
       " 'XgBoost': 0.895,\n",
       " 'Voting': 0.884,\n",
       " 'Stacking': 0.876}"
      ]
     },
     "execution_count": 49,
     "metadata": {},
     "output_type": "execute_result"
    }
   ],
   "source": [
    "score_dict = {}\n",
    "\n",
    "for model in models:\n",
    "    score = round(float(my_dict[model][0].split(\":\")[1]),3)\n",
    "    \n",
    "    score_dict[model]= score\n",
    "    \n",
    "score_dict"
   ]
  },
  {
   "cell_type": "code",
   "execution_count": 50,
   "metadata": {},
   "outputs": [
    {
     "data": {
      "text/plain": [
       "'XgBoost'"
      ]
     },
     "execution_count": 50,
     "metadata": {},
     "output_type": "execute_result"
    }
   ],
   "source": [
    "max(score_dict)"
   ]
  },
  {
   "cell_type": "code",
   "execution_count": 51,
   "metadata": {},
   "outputs": [
    {
     "ename": "NameError",
     "evalue": "name 'score_dcit' is not defined",
     "output_type": "error",
     "traceback": [
      "\u001b[1;31m---------------------------------------------------------------------------\u001b[0m",
      "\u001b[1;31mNameError\u001b[0m                                 Traceback (most recent call last)",
      "\u001b[1;32m<ipython-input-51-dfeb0a1c924a>\u001b[0m in \u001b[0;36m<module>\u001b[1;34m\u001b[0m\n\u001b[1;32m----> 1\u001b[1;33m \u001b[1;32mif\u001b[0m \u001b[0mmax\u001b[0m\u001b[1;33m(\u001b[0m\u001b[0mscore_dcit\u001b[0m\u001b[1;33m)\u001b[0m\u001b[1;33m==\u001b[0m \u001b[1;34m'XgBoost'\u001b[0m\u001b[1;33m:\u001b[0m\u001b[1;33m\u001b[0m\u001b[1;33m\u001b[0m\u001b[0m\n\u001b[0m\u001b[0;32m      2\u001b[0m     \u001b[0mmodeltraining\u001b[0m\u001b[1;33m.\u001b[0m\u001b[0mXgBoostRegressor\u001b[0m\u001b[1;33m(\u001b[0m\u001b[1;33m)\u001b[0m\u001b[1;33m\u001b[0m\u001b[1;33m\u001b[0m\u001b[0m\n",
      "\u001b[1;31mNameError\u001b[0m: name 'score_dcit' is not defined"
     ]
    }
   ],
   "source": [
    "if max(score_dict)== 'XgBoost':\n",
    "    modeltraining.XgBoostRegressor()"
   ]
  },
  {
   "cell_type": "code",
   "execution_count": 44,
   "metadata": {},
   "outputs": [],
   "source": [
    "model_names = ['LinearRegression',\n",
    "          'RidgeRegression',\n",
    "          'LassoRegression',\n",
    "          'KNN',\n",
    "          'DecisionTree',\n",
    "          'SVM',\n",
    "          'RandomForest',\n",
    "          'ExtraTrees',\n",
    "          'AdaBoostRegressor',\n",
    "          'GradientBoostRegressor',\n",
    "          'XgBoostregressor',\n",
    "          'VotingRegressor',\n",
    "          'Stacking']"
   ]
  }
 ],
 "metadata": {
  "kernelspec": {
   "display_name": "Python 3",
   "language": "python",
   "name": "python3"
  },
  "language_info": {
   "codemirror_mode": {
    "name": "ipython",
    "version": 3
   },
   "file_extension": ".py",
   "mimetype": "text/x-python",
   "name": "python",
   "nbconvert_exporter": "python",
   "pygments_lexer": "ipython3",
   "version": "3.7.9"
  }
 },
 "nbformat": 4,
 "nbformat_minor": 4
}
